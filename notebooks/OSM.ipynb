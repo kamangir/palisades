{
 "cells": [
  {
   "attachments": {},
   "cell_type": "markdown",
   "metadata": {},
   "source": [
    "# 🌀 OSM integration"
   ]
  },
  {
   "cell_type": "code",
   "execution_count": null,
   "metadata": {},
   "outputs": [],
   "source": [
    "from blueflow import notebooks\n",
    "\n",
    "from pyproj import Transformer\n",
    "\n",
    "from blue_options import string\n",
    "from blue_objects import objects, file\n",
    "from blue_objects.metadata import get_from_object\n",
    "\n",
    "from palisades.geo.OSM import *\n",
    "from palisades.host import signature\n",
    "from palisades.logger import logger\n",
    "\n",
    "logger.info(f\"{'.'.join(signature())},\\nbuilt on {string.pretty_date()}\")"
   ]
  },
  {
   "cell_type": "code",
   "execution_count": 2,
   "metadata": {},
   "outputs": [],
   "source": [
    "object_name = \"predict-datacube-maxar_open_data-WildFires-LosAngeles-Jan-2025-11-031311102212-10400100A0B73800-2025-01-21-jeko6i\""
   ]
  },
  {
   "attachments": {},
   "cell_type": "markdown",
   "metadata": {},
   "source": [
    "---"
   ]
  },
  {
   "cell_type": "code",
   "execution_count": 3,
   "metadata": {},
   "outputs": [],
   "source": [
    "assert objects.download(object_name)\n",
    "metadata = get_from_object(object_name, \"predict\")"
   ]
  },
  {
   "cell_type": "code",
   "execution_count": 4,
   "metadata": {},
   "outputs": [],
   "source": [
    "geoimage_path = objects.path_of(\n",
    "    filename=metadata[\"output_filename\"],\n",
    "    object_name=object_name,\n",
    ")\n",
    "output_geojson_path = file.add_extension(geoimage_path,\"geojson\")"
   ]
  },
  {
   "cell_type": "code",
   "execution_count": null,
   "metadata": {},
   "outputs": [],
   "source": [
    "# 1. Load Fire Damage Assessment Layer\n",
    "damage_layer, affine, crs, bbox = load_fire_damage_layer(geoimage_path)\n",
    "\n",
    "logger.info(f\"crs: {crs}, bbox:{bbox}\")"
   ]
  },
  {
   "cell_type": "code",
   "execution_count": null,
   "metadata": {},
   "outputs": [],
   "source": [
    "transformer = Transformer.from_crs(crs, \"EPSG:4326\", always_xy=True)\n",
    "\n",
    "min_x, min_y = transformer.transform(bbox[0], bbox[1])\n",
    "max_x, max_y = transformer.transform(bbox[2], bbox[3])\n",
    "\n",
    "bbox_wgs84 = (min_y, max_y, min_x, max_x)  # Format as (south, north, west, east)\n",
    "logger.info(f\"bbox_wgs84: {bbox_wgs84}\")\n"
   ]
  },
  {
   "cell_type": "code",
   "execution_count": null,
   "metadata": {},
   "outputs": [],
   "source": [
    "buildings = ox.features_from_bbox(\n",
    "    bbox=bbox_wgs84,\n",
    "    tags={\"building\": True},\n",
    ")\n"
   ]
  },
  {
   "cell_type": "code",
   "execution_count": null,
   "metadata": {},
   "outputs": [],
   "source": [
    "gdf =  buildings[buildings.geometry.notnull()].reset_index()"
   ]
  },
  {
   "cell_type": "code",
   "execution_count": null,
   "metadata": {},
   "outputs": [],
   "source": []
  },
  {
   "attachments": {},
   "cell_type": "markdown",
   "metadata": {},
   "source": [
    "---"
   ]
  },
  {
   "cell_type": "code",
   "execution_count": null,
   "metadata": {},
   "outputs": [],
   "source": [
    "# assert notebooks.upload(object_name)"
   ]
  },
  {
   "cell_type": "code",
   "execution_count": 5,
   "metadata": {},
   "outputs": [],
   "source": [
    "# END"
   ]
  }
 ],
 "metadata": {
  "kernelspec": {
   "display_name": ".venv",
   "language": "python",
   "name": "python3"
  },
  "language_info": {
   "codemirror_mode": {
    "name": "ipython",
    "version": 3
   },
   "file_extension": ".py",
   "mimetype": "text/x-python",
   "name": "python",
   "nbconvert_exporter": "python",
   "pygments_lexer": "ipython3",
   "version": "3.9.6"
  },
  "toc": {
   "base_numbering": 1,
   "nav_menu": {},
   "number_sections": true,
   "sideBar": true,
   "skip_h1_title": false,
   "title_cell": "Table of Contents",
   "title_sidebar": "Contents",
   "toc_cell": false,
   "toc_position": {},
   "toc_section_display": true,
   "toc_window_display": false
  }
 },
 "nbformat": 4,
 "nbformat_minor": 2
}
